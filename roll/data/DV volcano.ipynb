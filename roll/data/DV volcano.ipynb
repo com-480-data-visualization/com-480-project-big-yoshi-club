{
 "cells": [
  {
   "cell_type": "code",
   "execution_count": 1,
   "metadata": {},
   "outputs": [
    {
     "name": "stderr",
     "output_type": "stream",
     "text": [
      "In D:\\programmes\\anaconda\\lib\\site-packages\\matplotlib\\mpl-data\\stylelib\\_classic_test.mplstyle: \n",
      "The text.latex.unicode rcparam was deprecated in Matplotlib 3.0 and will be removed in 3.2.\n",
      "In D:\\programmes\\anaconda\\lib\\site-packages\\matplotlib\\mpl-data\\stylelib\\_classic_test.mplstyle: \n",
      "The savefig.frameon rcparam was deprecated in Matplotlib 3.1 and will be removed in 3.3.\n",
      "In D:\\programmes\\anaconda\\lib\\site-packages\\matplotlib\\mpl-data\\stylelib\\_classic_test.mplstyle: \n",
      "The pgf.debug rcparam was deprecated in Matplotlib 3.0 and will be removed in 3.2.\n",
      "In D:\\programmes\\anaconda\\lib\\site-packages\\matplotlib\\mpl-data\\stylelib\\_classic_test.mplstyle: \n",
      "The verbose.level rcparam was deprecated in Matplotlib 3.1 and will be removed in 3.3.\n",
      "In D:\\programmes\\anaconda\\lib\\site-packages\\matplotlib\\mpl-data\\stylelib\\_classic_test.mplstyle: \n",
      "The verbose.fileo rcparam was deprecated in Matplotlib 3.1 and will be removed in 3.3.\n"
     ]
    }
   ],
   "source": [
    "import pandas as pd\n",
    "import numpy as np\n",
    "import matplotlib.pyplot as plt\n",
    "import seaborn as sns"
   ]
  },
  {
   "cell_type": "code",
   "execution_count": 49,
   "metadata": {},
   "outputs": [],
   "source": [
    "df = pd.read_excel('Volcano.xlsx')\n",
    "N = df['Volcano Number'].size"
   ]
  },
  {
   "cell_type": "code",
   "execution_count": 50,
   "metadata": {},
   "outputs": [
    {
     "data": {
      "text/html": [
       "<div>\n",
       "<style scoped>\n",
       "    .dataframe tbody tr th:only-of-type {\n",
       "        vertical-align: middle;\n",
       "    }\n",
       "\n",
       "    .dataframe tbody tr th {\n",
       "        vertical-align: top;\n",
       "    }\n",
       "\n",
       "    .dataframe thead th {\n",
       "        text-align: right;\n",
       "    }\n",
       "</style>\n",
       "<table border=\"1\" class=\"dataframe\">\n",
       "  <thead>\n",
       "    <tr style=\"text-align: right;\">\n",
       "      <th></th>\n",
       "      <th>Volcano Number</th>\n",
       "      <th>Volcano Name</th>\n",
       "      <th>Country</th>\n",
       "      <th>Primary Volcano Type</th>\n",
       "      <th>Activity Evidence</th>\n",
       "      <th>Last Known Eruption</th>\n",
       "      <th>Region</th>\n",
       "      <th>Subregion</th>\n",
       "      <th>Latitude</th>\n",
       "      <th>Longitude</th>\n",
       "      <th>Elevation (m)</th>\n",
       "      <th>Dominant Rock Type</th>\n",
       "      <th>Tectonic Setting</th>\n",
       "    </tr>\n",
       "  </thead>\n",
       "  <tbody>\n",
       "    <tr>\n",
       "      <th>0</th>\n",
       "      <td>210010</td>\n",
       "      <td>West Eifel Volcanic Field</td>\n",
       "      <td>Germany</td>\n",
       "      <td>Maar(s)</td>\n",
       "      <td>Eruption Dated</td>\n",
       "      <td>8300 BCE</td>\n",
       "      <td>Mediterranean and Western Asia</td>\n",
       "      <td>Western Europe</td>\n",
       "      <td>50.170</td>\n",
       "      <td>6.85</td>\n",
       "      <td>600</td>\n",
       "      <td>Foidite</td>\n",
       "      <td>Rift zone / Continental crust (&gt;25 km)</td>\n",
       "    </tr>\n",
       "    <tr>\n",
       "      <th>1</th>\n",
       "      <td>210020</td>\n",
       "      <td>Chaine des Puys</td>\n",
       "      <td>France</td>\n",
       "      <td>Lava dome(s)</td>\n",
       "      <td>Eruption Dated</td>\n",
       "      <td>4040 BCE</td>\n",
       "      <td>Mediterranean and Western Asia</td>\n",
       "      <td>Western Europe</td>\n",
       "      <td>45.775</td>\n",
       "      <td>2.97</td>\n",
       "      <td>1464</td>\n",
       "      <td>Basalt / Picro-Basalt</td>\n",
       "      <td>Rift zone / Continental crust (&gt;25 km)</td>\n",
       "    </tr>\n",
       "    <tr>\n",
       "      <th>2</th>\n",
       "      <td>210030</td>\n",
       "      <td>Olot Volcanic Field</td>\n",
       "      <td>Spain</td>\n",
       "      <td>Pyroclastic cone(s)</td>\n",
       "      <td>Evidence Credible</td>\n",
       "      <td>Unknown</td>\n",
       "      <td>Mediterranean and Western Asia</td>\n",
       "      <td>Western Europe</td>\n",
       "      <td>42.170</td>\n",
       "      <td>2.53</td>\n",
       "      <td>893</td>\n",
       "      <td>Trachybasalt / Tephrite Basanite</td>\n",
       "      <td>Intraplate / Continental crust (&gt;25 km)</td>\n",
       "    </tr>\n",
       "    <tr>\n",
       "      <th>3</th>\n",
       "      <td>210040</td>\n",
       "      <td>Calatrava Volcanic Field</td>\n",
       "      <td>Spain</td>\n",
       "      <td>Pyroclastic cone(s)</td>\n",
       "      <td>Eruption Dated</td>\n",
       "      <td>3600 BCE</td>\n",
       "      <td>Mediterranean and Western Asia</td>\n",
       "      <td>Western Europe</td>\n",
       "      <td>38.870</td>\n",
       "      <td>-4.02</td>\n",
       "      <td>1117</td>\n",
       "      <td>Basalt / Picro-Basalt</td>\n",
       "      <td>Intraplate / Continental crust (&gt;25 km)</td>\n",
       "    </tr>\n",
       "    <tr>\n",
       "      <th>4</th>\n",
       "      <td>211001</td>\n",
       "      <td>Larderello</td>\n",
       "      <td>Italy</td>\n",
       "      <td>Explosion crater(s)</td>\n",
       "      <td>Eruption Observed</td>\n",
       "      <td>1282 CE</td>\n",
       "      <td>Mediterranean and Western Asia</td>\n",
       "      <td>Italy</td>\n",
       "      <td>43.250</td>\n",
       "      <td>10.87</td>\n",
       "      <td>500</td>\n",
       "      <td>No Data (checked)</td>\n",
       "      <td>Subduction zone / Continental crust (&gt;25 km)</td>\n",
       "    </tr>\n",
       "  </tbody>\n",
       "</table>\n",
       "</div>"
      ],
      "text/plain": [
       "   Volcano Number               Volcano Name  Country Primary Volcano Type  \\\n",
       "0          210010  West Eifel Volcanic Field  Germany              Maar(s)   \n",
       "1          210020            Chaine des Puys   France         Lava dome(s)   \n",
       "2          210030        Olot Volcanic Field    Spain  Pyroclastic cone(s)   \n",
       "3          210040   Calatrava Volcanic Field    Spain  Pyroclastic cone(s)   \n",
       "4          211001                 Larderello    Italy  Explosion crater(s)   \n",
       "\n",
       "   Activity Evidence Last Known Eruption                          Region  \\\n",
       "0     Eruption Dated            8300 BCE  Mediterranean and Western Asia   \n",
       "1     Eruption Dated            4040 BCE  Mediterranean and Western Asia   \n",
       "2  Evidence Credible             Unknown  Mediterranean and Western Asia   \n",
       "3     Eruption Dated            3600 BCE  Mediterranean and Western Asia   \n",
       "4  Eruption Observed             1282 CE  Mediterranean and Western Asia   \n",
       "\n",
       "        Subregion  Latitude  Longitude  Elevation (m)  \\\n",
       "0  Western Europe    50.170       6.85            600   \n",
       "1  Western Europe    45.775       2.97           1464   \n",
       "2  Western Europe    42.170       2.53            893   \n",
       "3  Western Europe    38.870      -4.02           1117   \n",
       "4           Italy    43.250      10.87            500   \n",
       "\n",
       "                 Dominant Rock Type  \\\n",
       "0                           Foidite   \n",
       "1             Basalt / Picro-Basalt   \n",
       "2  Trachybasalt / Tephrite Basanite   \n",
       "3             Basalt / Picro-Basalt   \n",
       "4                 No Data (checked)   \n",
       "\n",
       "                               Tectonic Setting  \n",
       "0        Rift zone / Continental crust (>25 km)  \n",
       "1        Rift zone / Continental crust (>25 km)  \n",
       "2       Intraplate / Continental crust (>25 km)  \n",
       "3       Intraplate / Continental crust (>25 km)  \n",
       "4  Subduction zone / Continental crust (>25 km)  "
      ]
     },
     "execution_count": 50,
     "metadata": {},
     "output_type": "execute_result"
    }
   ],
   "source": [
    "df.head(5)"
   ]
  },
  {
   "cell_type": "code",
   "execution_count": 51,
   "metadata": {},
   "outputs": [
    {
     "data": {
      "text/plain": [
       "Index(['Volcano Number', 'Volcano Name', 'Country', 'Primary Volcano Type',\n",
       "       'Activity Evidence', 'Last Known Eruption', 'Region', 'Subregion',\n",
       "       'Latitude', 'Longitude', 'Elevation (m)', 'Dominant Rock Type',\n",
       "       'Tectonic Setting'],\n",
       "      dtype='object')"
      ]
     },
     "execution_count": 51,
     "metadata": {},
     "output_type": "execute_result"
    }
   ],
   "source": [
    "df.columns"
   ]
  },
  {
   "cell_type": "markdown",
   "metadata": {},
   "source": [
    "### Elevation"
   ]
  },
  {
   "cell_type": "code",
   "execution_count": 52,
   "metadata": {},
   "outputs": [],
   "source": [
    "elevations = df['Elevation (m)']"
   ]
  },
  {
   "cell_type": "code",
   "execution_count": 53,
   "metadata": {},
   "outputs": [
    {
     "data": {
      "text/plain": [
       "[<matplotlib.lines.Line2D at 0x16ae27b6438>]"
      ]
     },
     "execution_count": 53,
     "metadata": {},
     "output_type": "execute_result"
    },
    {
     "data": {
      "image/png": "[encoded data removed]",
      "text/plain": [
       "<Figure size 432x288 with 1 Axes>"
      ]
     },
     "metadata": {},
     "output_type": "display_data"
    }
   ],
   "source": [
    "plt.plot(range(len(elevations)), np.sort(elevations))"
   ]
  },
  {
   "cell_type": "code",
   "execution_count": 54,
   "metadata": {},
   "outputs": [
    {
     "data": {
      "text/plain": [
       "[]"
      ]
     },
     "execution_count": 54,
     "metadata": {},
     "output_type": "execute_result"
    },
    {
     "data": {
      "image/png": "[encoded data removed]",
      "text/plain": [
       "<Figure size 432x288 with 1 Axes>"
      ]
     },
     "metadata": {},
     "output_type": "display_data"
    }
   ],
   "source": [
    "sns.set()\n",
    "ax = sns.distplot(elevations, bins = 50, kde = False)\n",
    "ax.set_yticks([])"
   ]
  },
  {
   "cell_type": "code",
   "execution_count": 55,
   "metadata": {},
   "outputs": [],
   "source": [
    "height_mean = np.mean(elevations)\n",
    "height_median = np.median(elevations)\n",
    "height_max = np.max(elevations)\n",
    "heigth_min = np.min(elevations)"
   ]
  },
  {
   "cell_type": "markdown",
   "metadata": {},
   "source": [
    "### Erruptions"
   ]
  },
  {
   "cell_type": "code",
   "execution_count": 56,
   "metadata": {},
   "outputs": [],
   "source": [
    "last_err = df['Last Known Eruption']\n",
    "last_err_clean = last_err[last_err != 'Unknown']\n",
    "old_perc = len(last_err_clean)/len(last_err) * 100\n",
    "last_err_clean = [x.split(' ') for x in last_err_clean]\n",
    "oldness = np.array([2018+int(x[0]) if x[1] == 'BCE' else 2018-int(x[0]) for x in last_err_clean])\n",
    "oldest = np.max(oldness)\n",
    "old_mean = np.mean(oldness)\n",
    "old_median = np.median(oldness)"
   ]
  },
  {
   "cell_type": "code",
   "execution_count": 57,
   "metadata": {},
   "outputs": [],
   "source": [
    "err_ev = df['Activity Evidence']\n",
    "err_poss_activity_info = ', '.join(err_ev.unique())"
   ]
  },
  {
   "cell_type": "markdown",
   "metadata": {},
   "source": [
    "### Position"
   ]
  },
  {
   "cell_type": "code",
   "execution_count": 58,
   "metadata": {},
   "outputs": [],
   "source": [
    "position_info = df[['Country', 'Region', 'Subregion', 'Latitude', 'Longitude']]\n",
    "num_countries = position_info['Country'].unique().shape[0]\n",
    "num_regions = position_info['Region'].unique().shape[0]\n",
    "num_subregions = position_info['Subregion'].unique().shape[0]"
   ]
  },
  {
   "cell_type": "markdown",
   "metadata": {},
   "source": [
    "### Volcano properties"
   ]
  },
  {
   "cell_type": "code",
   "execution_count": 59,
   "metadata": {},
   "outputs": [],
   "source": [
    "prop = df[['Primary Volcano Type', 'Dominant Rock Type', 'Tectonic Setting']]\n",
    "num_vol_type = prop['Primary Volcano Type'].unique().shape[0]\n",
    "num_rock_type = prop['Dominant Rock Type'].unique().shape[0]\n",
    "num_tec_type = prop[ 'Tectonic Setting'].unique().shape[0]"
   ]
  },
  {
   "cell_type": "code",
   "execution_count": 60,
   "metadata": {},
   "outputs": [
    {
     "data": {
      "text/plain": [
       "array(['Maar(s)', 'Lava dome(s)', 'Pyroclastic cone(s)',\n",
       "       'Explosion crater(s)', 'Caldera', 'Stratovolcano', 'Complex',\n",
       "       'Submarine', 'Stratovolcano(es)', 'Shield', 'Shield(s)',\n",
       "       'Lava dome', 'Lava cone(s)', 'Volcanic field', 'Volcanic field(s)',\n",
       "       'Fissure vent(s)', 'Fissure vent', 'Caldera(s)',\n",
       "       'Pyroclastic cone', 'Tuff cone(s)', 'Tuff cone',\n",
       "       'Pyroclastic shield', 'Submarine(es)', 'Maar', 'Compound',\n",
       "       'Lava cone', 'Stratovolcano?', 'Unknown', 'Crater rows',\n",
       "       'Complex(es)', 'Cone(s)', 'Tuff ring(s)', 'Subglacial'],\n",
       "      dtype=object)"
      ]
     },
     "execution_count": 60,
     "metadata": {},
     "output_type": "execute_result"
    }
   ],
   "source": [
    "prop['Primary Volcano Type'].unique()"
   ]
  },
  {
   "cell_type": "code",
   "execution_count": 61,
   "metadata": {},
   "outputs": [],
   "source": [
    "rockTypes = prop['Dominant Rock Type'].dropna().unique()"
   ]
  },
  {
   "cell_type": "code",
   "execution_count": 62,
   "metadata": {},
   "outputs": [
    {
     "data": {
      "text/plain": [
       "array(['Foidite', 'Basalt / Picro-Basalt',\n",
       "       'Trachybasalt / Tephrite Basanite', 'No Data (checked)',\n",
       "       'Trachyte / Trachydacite', 'Phono-tephrite /  Tephri-phonolite',\n",
       "       'Phonolite', 'Trachyandesite / Basaltic Trachyandesite',\n",
       "       'Andesite / Basaltic Andesite', 'Rhyolite', 'Dacite'], dtype=object)"
      ]
     },
     "execution_count": 62,
     "metadata": {},
     "output_type": "execute_result"
    }
   ],
   "source": [
    "rockTypes"
   ]
  },
  {
   "cell_type": "code",
   "execution_count": 63,
   "metadata": {},
   "outputs": [],
   "source": [
    "x = []\n",
    "y = []\n",
    "for i in rockTypes:\n",
    "    n = len(prop[prop['Dominant Rock Type'] == i])\n",
    "    x.append(i)\n",
    "    y.append(n)"
   ]
  },
  {
   "cell_type": "code",
   "execution_count": 64,
   "metadata": {},
   "outputs": [
    {
     "data": {
      "text/plain": [
       "'Andesite / Basaltic Andesite'"
      ]
     },
     "execution_count": 64,
     "metadata": {},
     "output_type": "execute_result"
    }
   ],
   "source": [
    "x[8]"
   ]
  },
  {
   "cell_type": "code",
   "execution_count": 65,
   "metadata": {},
   "outputs": [
    {
     "data": {
      "text/plain": [
       "Text(0.5, 0, 'rock types')"
      ]
     },
     "execution_count": 65,
     "metadata": {},
     "output_type": "execute_result"
    },
    {
     "data": {
      "image/png": "[encoded data removed]",
      "text/plain": [
       "<Figure size 432x288 with 1 Axes>"
      ]
     },
     "metadata": {},
     "output_type": "display_data"
    }
   ],
   "source": [
    "ax = plt.bar(1+np.arange(11), y)\n",
    "plt.xlabel('rock types')"
   ]
  },
  {
   "cell_type": "code",
   "execution_count": 66,
   "metadata": {},
   "outputs": [
    {
     "data": {
      "text/plain": [
       "array(['Rift zone / Continental crust (>25 km)',\n",
       "       'Intraplate / Continental crust (>25 km)',\n",
       "       'Subduction zone / Continental crust (>25 km)', nan,\n",
       "       'Rift zone / Oceanic crust (< 15 km)',\n",
       "       'Rift zone / Intermediate crust (15-25 km)',\n",
       "       'Intraplate / Oceanic crust (< 15 km)',\n",
       "       'Subduction zone / Oceanic crust (< 15 km)',\n",
       "       'Subduction zone / Crustal thickness unknown',\n",
       "       'Subduction zone / Intermediate crust (15-25 km)', 'Unknown',\n",
       "       'Intraplate / Intermediate crust (15-25 km)'], dtype=object)"
      ]
     },
     "execution_count": 66,
     "metadata": {},
     "output_type": "execute_result"
    }
   ],
   "source": [
    "prop['Tectonic Setting'].unique()"
   ]
  },
  {
   "cell_type": "code",
   "execution_count": 67,
   "metadata": {},
   "outputs": [
    {
     "name": "stdout",
     "output_type": "stream",
     "text": [
      "r: 240, i: 182 s: 1008\n"
     ]
    }
   ],
   "source": [
    "rz= 0\n",
    "intr = 0\n",
    "sz = 0\n",
    "for i in prop['Tectonic Setting'].dropna():\n",
    "    if i[0] == 'R':\n",
    "        rz+=1\n",
    "    elif i[0] == 'S':\n",
    "        sz+=1\n",
    "    elif i[0] == 'I':\n",
    "        intr+=1\n",
    "print('r: ' + str(rz) + ', i: ' + str(intr) + ' s: ' + str(sz))"
   ]
  },
  {
   "cell_type": "code",
   "execution_count": 68,
   "metadata": {},
   "outputs": [
    {
     "data": {
      "text/plain": [
       "<BarContainer object of 3 artists>"
      ]
     },
     "execution_count": 68,
     "metadata": {},
     "output_type": "execute_result"
    },
    {
     "data": {
      "image/png": "[encoded data removed]",
      "text/plain": [
       "<Figure size 432x288 with 1 Axes>"
      ]
     },
     "metadata": {},
     "output_type": "display_data"
    }
   ],
   "source": [
    "plt.bar(['Rift', 'Intraplte', 'Subduction'], [rz, intr, sz])"
   ]
  },
  {
   "cell_type": "code",
   "execution_count": 69,
   "metadata": {},
   "outputs": [],
   "source": [
    "temp = prop[prop['Primary Volcano Type'] != 'Unkown']\n",
    "temp = temp[temp['Dominant Rock Type'] != 'No Data (checked)']\n",
    "temp = temp[temp['Tectonic Setting'] != 'Unknown']\n",
    "temp = temp.dropna()"
   ]
  },
  {
   "cell_type": "code",
   "execution_count": 70,
   "metadata": {},
   "outputs": [],
   "source": [
    "types = temp['Primary Volcano Type'].unique()"
   ]
  },
  {
   "cell_type": "code",
   "execution_count": 71,
   "metadata": {},
   "outputs": [
    {
     "data": {
      "text/plain": [
       "0                   Maar(s)\n",
       "1              Lava dome(s)\n",
       "2       Pyroclastic cone(s)\n",
       "3       Pyroclastic cone(s)\n",
       "5                   Caldera\n",
       "               ...         \n",
       "1430          Stratovolcano\n",
       "1431          Stratovolcano\n",
       "1432          Stratovolcano\n",
       "1433              Submarine\n",
       "1434                 Shield\n",
       "Name: Primary Volcano Type, Length: 1367, dtype: object"
      ]
     },
     "execution_count": 71,
     "metadata": {},
     "output_type": "execute_result"
    }
   ],
   "source": [
    "temp['Primary Volcano Type']"
   ]
  },
  {
   "cell_type": "markdown",
   "metadata": {},
   "source": [
    "### Cell for printing findings"
   ]
  },
  {
   "cell_type": "code",
   "execution_count": 72,
   "metadata": {},
   "outputs": [
    {
     "name": "stdout",
     "output_type": "stream",
     "text": [
      "There are 1436 volcanoes that are referenced in the dataset.\n",
      "   The oldest erruption happened 12468 years ago(10448 BCE),\n",
      "the mean difference in year with today is 1250, the median 112.\n",
      "This information is available for 60% of the volcanoes.\n",
      "There also is activity information.\n",
      "The possible values are Eruption Dated, Evidence Credible, Eruption Observed, Evidence Uncertain, Unrest / Holocene.\n",
      "   Height is given with respect to sea level.\n",
      "The mean heigth is 1688, while the median height is 1484.\n",
      "The maximum heigth is 6879 while the minimum is -5700.\n",
      "   The volcanoes are shattered accross 95 countries (19 regions and 107 subregions).\n",
      "   The volcanoes have 3 additional properties:\n",
      "'Primary Volcano Type' (33 types), 'Dominant Rock Type' (12 types) and 'Tectonic Setting' (12 types).\n",
      "\n",
      "\n"
     ]
    }
   ],
   "source": [
    "print(\"\"\"There are {} volcanoes that are referenced in the dataset.\"\"\"\n",
    "     .format(N)\n",
    "    )\n",
    "\n",
    "print(\n",
    "\"\"\"   The oldest erruption happened {} years ago({}),\n",
    "the mean difference in year with today is {}, the median {}.\n",
    "This information is available for {}% of the volcanoes.\n",
    "There also is activity information.\n",
    "The possible values are {}.\"\"\"\n",
    "    .format(oldest, str(oldest-2020)+' BCE', int(old_mean), int(old_median), int(old_perc), err_poss_activity_info)\n",
    ")\n",
    "\n",
    "print(\n",
    "\"\"\"   Height is given with respect to sea level.\n",
    "The mean heigth is {}, while the median height is {}.\n",
    "The maximum heigth is {} while the minimum is {}.\"\"\"\n",
    "    .format(int(height_mean), int(height_median), int(height_max), int(heigth_min)))\n",
    "\n",
    "print(\n",
    "\"\"\"   The volcanoes are shattered accross {} countries ({} regions and {} subregions).\"\"\"\n",
    "    .format(num_countries, num_regions, num_subregions)\n",
    ")\n",
    "\n",
    "print(\n",
    "\"\"\"   The volcanoes have 3 additional properties:\n",
    "'Primary Volcano Type' ({} types), 'Dominant Rock Type' ({} types) and 'Tectonic Setting' ({} types).\n",
    "\n",
    "\"\"\".format(num_vol_type, num_rock_type, num_tec_type))"
   ]
  },
  {
   "cell_type": "markdown",
   "metadata": {},
   "source": [
    "## cleaninig column per column"
   ]
  },
  {
   "cell_type": "code",
   "execution_count": 1,
   "metadata": {},
   "outputs": [],
   "source": [
    "import pandas as pd\n",
    "import numpy as np\n",
    "df = pd.read_excel('Volcano.xlsx')"
   ]
  },
  {
   "cell_type": "code",
   "execution_count": 2,
   "metadata": {},
   "outputs": [],
   "source": [
    "df.count()\n",
    "df = df.fillna('Unknown') ## replace na by unknown"
   ]
  },
  {
   "cell_type": "code",
   "execution_count": 3,
   "metadata": {},
   "outputs": [],
   "source": [
    "df = df.replace('Unknown', 'unknown')"
   ]
  },
  {
   "cell_type": "code",
   "execution_count": 4,
   "metadata": {},
   "outputs": [
    {
     "name": "stdout",
     "output_type": "stream",
     "text": [
      "Volcano Number\n",
      "Volcano Name\n",
      "Country\n",
      "Primary Volcano Type\n",
      "Activity Evidence\n",
      "Last Known Eruption\n",
      "Region\n",
      "Subregion\n",
      "Latitude\n",
      "Longitude\n",
      "Elevation (m)\n",
      "Dominant Rock Type\n",
      "Tectonic Setting\n"
     ]
    }
   ],
   "source": [
    "for i in df.columns:\n",
    "    print(i)"
   ]
  },
  {
   "cell_type": "markdown",
   "metadata": {},
   "source": [
    "### Country\n",
    "#### modifications:\n",
    "    replaced all countries with an array with all the countries that the volcano belongs to"
   ]
  },
  {
   "cell_type": "code",
   "execution_count": 5,
   "metadata": {},
   "outputs": [
    {
     "name": "stdout",
     "output_type": "stream",
     "text": [
      "['Germany' 'France' 'Spain' 'Italy' 'Greece' 'Turkey' 'Russia' 'Georgia'\n",
      " 'Armenia' 'Armenia-Azerbaijan' 'Yemen' 'Eritrea' 'Ethiopia'\n",
      " 'Ethiopia-Eritrea' 'Ethiopia-Djibouti' 'Ethiopia-Eritrea-Djibouti'\n",
      " 'Eritrea-Djibouti' 'Djibouti' 'Ethiopia-Kenya' 'Kenya' 'Tanzania'\n",
      " 'Uganda' 'DR Congo' 'DR Congo-Rwanda' 'Uganda-Rwanda' 'Equatorial Guinea'\n",
      " 'Cameroon' 'Niger' 'Mali' 'Algeria' 'Chad' 'Sudan' 'Syria'\n",
      " 'Syria-Jordan-Saudi Arabia' 'Saudi Arabia' 'Iran' 'Comoros' 'Madagascar'\n",
      " 'Australia' 'South Africa' 'New Zealand' 'Undersea Features' 'Tonga'\n",
      " 'United States' 'Samoa' 'Fiji' 'Papua New Guinea' 'Solomon Islands'\n",
      " 'Vanuatu' 'India' 'Indonesia' 'Philippines' 'China' 'Vietnam'\n",
      " 'Burma (Myanmar)' 'Taiwan' 'Japan' 'Japan - administered by Russia'\n",
      " 'Mongolia' 'China-North Korea' 'North Korea-South Korea' 'South Korea'\n",
      " 'Canada' 'Mexico' 'Mexico-Guatemala' 'Guatemala' 'Guatemala-El Salvador'\n",
      " 'El Salvador-Guatemala' 'El Salvador' 'Honduras' 'Nicaragua' 'Costa Rica'\n",
      " 'Panama' 'Colombia' 'Colombia-Ecuador' 'Ecuador' 'Peru' 'Chile-Peru'\n",
      " 'Chile' 'Chile-Bolivia' 'Bolivia' 'Chile-Argentina' 'Argentina'\n",
      " 'Netherlands' 'Saint Kitts and Nevis' 'United Kingdom' 'Dominica'\n",
      " 'Saint Lucia' 'Saint Vincent and the Grenadines' 'Grenada' 'Iceland'\n",
      " 'Norway' 'Portugal' 'Cape Verde' 'Antarctica']\n"
     ]
    }
   ],
   "source": [
    "countries = df['Country'].unique()\n",
    "print(countries)"
   ]
  },
  {
   "cell_type": "markdown",
   "metadata": {},
   "source": [
    "countries are all defined as string but some of them are a combination of two countries."
   ]
  },
  {
   "cell_type": "code",
   "execution_count": 6,
   "metadata": {},
   "outputs": [],
   "source": [
    "def map_countries(countries):\n",
    "    res = []\n",
    "    for i,c in enumerate(countries):\n",
    "        res.append(c.split('-'))\n",
    "    return res"
   ]
  },
  {
   "cell_type": "code",
   "execution_count": 7,
   "metadata": {},
   "outputs": [],
   "source": [
    "df['Country'] = map_countries(df['Country'])"
   ]
  },
  {
   "cell_type": "markdown",
   "metadata": {},
   "source": [
    "### Primary Volcano Type\n",
    "#### modifications:\n",
    "    removed the (s), (es) and ? from the types"
   ]
  },
  {
   "cell_type": "code",
   "execution_count": 8,
   "metadata": {},
   "outputs": [
    {
     "name": "stdout",
     "output_type": "stream",
     "text": [
      "['Maar(s)' 'Lava dome(s)' 'Pyroclastic cone(s)' 'Explosion crater(s)'\n",
      " 'Caldera' 'Stratovolcano' 'Complex' 'Submarine' 'Stratovolcano(es)'\n",
      " 'Shield' 'Shield(s)' 'Lava dome' 'Lava cone(s)' 'Volcanic field'\n",
      " 'Volcanic field(s)' 'Fissure vent(s)' 'Fissure vent' 'Caldera(s)'\n",
      " 'Pyroclastic cone' 'Tuff cone(s)' 'Tuff cone' 'Pyroclastic shield'\n",
      " 'Submarine(es)' 'Maar' 'Compound' 'Lava cone' 'Stratovolcano?' 'unknown'\n",
      " 'Crater rows' 'Complex(es)' 'Cone(s)' 'Tuff ring(s)' 'Subglacial']\n"
     ]
    }
   ],
   "source": [
    "types = df['Primary Volcano Type'].unique()\n",
    "print(types)"
   ]
  },
  {
   "cell_type": "markdown",
   "metadata": {},
   "source": [
    "there are unknown volcano types"
   ]
  },
  {
   "cell_type": "code",
   "execution_count": 9,
   "metadata": {},
   "outputs": [],
   "source": [
    "def changeTypes(types):\n",
    "    res = []\n",
    "    for t in types:\n",
    "            res.append(t\n",
    "                       .replace('(s)', '')\n",
    "                       .replace('(es)', '')\n",
    "                       .replace('?', '')\n",
    "                      )\n",
    "    return res"
   ]
  },
  {
   "cell_type": "code",
   "execution_count": 10,
   "metadata": {},
   "outputs": [],
   "source": [
    "df['Primary Volcano Type'] = changeTypes(df['Primary Volcano Type'])"
   ]
  },
  {
   "cell_type": "code",
   "execution_count": 11,
   "metadata": {},
   "outputs": [
    {
     "data": {
      "text/plain": [
       "array(['Maar', 'Lava dome', 'Pyroclastic cone', 'Explosion crater',\n",
       "       'Caldera', 'Stratovolcano', 'Complex', 'Submarine', 'Shield',\n",
       "       'Lava cone', 'Volcanic field', 'Fissure vent', 'Tuff cone',\n",
       "       'Pyroclastic shield', 'Compound', 'unknown', 'Crater rows', 'Cone',\n",
       "       'Tuff ring', 'Subglacial'], dtype=object)"
      ]
     },
     "execution_count": 11,
     "metadata": {},
     "output_type": "execute_result"
    }
   ],
   "source": [
    "df['Primary Volcano Type'].unique()"
   ]
  },
  {
   "cell_type": "markdown",
   "metadata": {},
   "source": [
    "### Activity Evidence"
   ]
  },
  {
   "cell_type": "code",
   "execution_count": 12,
   "metadata": {},
   "outputs": [],
   "source": [
    "act_ev = df['Activity Evidence']"
   ]
  },
  {
   "cell_type": "code",
   "execution_count": 13,
   "metadata": {},
   "outputs": [
    {
     "data": {
      "text/plain": [
       "array(['Eruption Dated', 'Evidence Credible', 'Eruption Observed',\n",
       "       'Evidence Uncertain', 'Unrest / Holocene'], dtype=object)"
      ]
     },
     "execution_count": 13,
     "metadata": {},
     "output_type": "execute_result"
    }
   ],
   "source": [
    "act_ev.unique()"
   ]
  },
  {
   "cell_type": "markdown",
   "metadata": {},
   "source": [
    "### Last Known Erruption\n",
    "#### modifications:\n",
    "replaced every string of the eruption times by the time from 2018 (time of the creation of the document) and the last known eruption."
   ]
  },
  {
   "cell_type": "code",
   "execution_count": 14,
   "metadata": {},
   "outputs": [],
   "source": [
    "last_er = df['Last Known Eruption']"
   ]
  },
  {
   "cell_type": "code",
   "execution_count": 15,
   "metadata": {},
   "outputs": [],
   "source": [
    "splitted = np.array([x.split(' ') for x in last_er])\n",
    "def age(elem):\n",
    "    if len(elem) == 2:\n",
    "        if elem[1] == 'BCE':\n",
    "            return 2018 + int(elem[0]) \n",
    "        else:\n",
    "            return 2018 - int(elem[0])\n",
    "    else:\n",
    "        return elem[0]"
   ]
  },
  {
   "cell_type": "code",
   "execution_count": 16,
   "metadata": {},
   "outputs": [],
   "source": [
    "res = map(age, splitted)\n",
    "df['Last Known Eruption'] = list(res)"
   ]
  },
  {
   "cell_type": "markdown",
   "metadata": {},
   "source": [
    "### Region"
   ]
  },
  {
   "cell_type": "code",
   "execution_count": 17,
   "metadata": {},
   "outputs": [
    {
     "data": {
      "text/plain": [
       "array(['Mediterranean and Western Asia', 'Africa and Red Sea',\n",
       "       'Middle East and Indian Ocean', 'New Zealand to Fiji',\n",
       "       'Melanesia and Australia', 'Indonesia', 'Philippines and SE Asia',\n",
       "       'Japan, Taiwan, Marianas', 'Kuril Islands',\n",
       "       'Kamchatka and Mainland Asia', 'Alaska', 'Canada and Western USA',\n",
       "       'Hawaii and Pacific Ocean', 'México and Central America',\n",
       "       'South America', 'West Indies', 'Iceland and Arctic Ocean',\n",
       "       'Atlantic Ocean', 'Antarctica'], dtype=object)"
      ]
     },
     "execution_count": 17,
     "metadata": {},
     "output_type": "execute_result"
    }
   ],
   "source": [
    "df['Region'].unique()"
   ]
  },
  {
   "cell_type": "markdown",
   "metadata": {},
   "source": [
    "### Subregion\n",
    "#### modifications:\n",
    "    removed them, don't seem very useful"
   ]
  },
  {
   "cell_type": "code",
   "execution_count": 18,
   "metadata": {},
   "outputs": [
    {
     "data": {
      "text/plain": [
       "array(['Western Europe', 'Italy', 'Greece', 'Turkey', 'Western Asia',\n",
       "       'Africa (northeastern) and Red Sea', 'Africa (eastern)',\n",
       "       'Africa (central)', 'Africa (western)', 'Africa (northern)',\n",
       "       'Middle East (western)', 'Middle East (southern)',\n",
       "       'Middle East (eastern)', 'Indian Ocean (western)',\n",
       "       'Indian Ocean (southern)', 'New Zealand', 'Kermadec Islands',\n",
       "       'Tonga Islands', 'Samoan and Wallis Islands', 'Fiji Islands',\n",
       "       'Admiralty Islands', 'Northeast of New Guinea', 'New Britain',\n",
       "       \"New Guinea and D'Entrecasteaux Islands\", 'New Ireland',\n",
       "       'Bougainville and Solomon Islands', 'Santa Cruz Islands',\n",
       "       'Vanuatu', 'Pacific Ocean (southwestern)', 'Australia',\n",
       "       'Andaman Islands', 'Sumatra', 'Krakatau', 'Java',\n",
       "       'Lesser Sunda Islands', 'Banda Sea', 'Sulawesi', 'Sangihe Islands',\n",
       "       'Halmahera', 'Mindanao', 'Central Philippines', 'Luzon',\n",
       "       'North of Luzon', 'Southeast Asia', 'Taiwan',\n",
       "       'Ryukyu Islands and Kyushu', 'Honshu',\n",
       "       'Izu, Volcano, and Mariana Islands', 'Hokkaido', 'Kuril Islands',\n",
       "       'Kamchatka Peninsula', 'Russia (southeastern)', 'Mongolia',\n",
       "       'China (western)', 'China (eastern)', 'Korea', 'Aleutian Islands',\n",
       "       'Alaska Peninsula', 'Alaska (southwestern)', 'Alaska (western)',\n",
       "       'Alaska (eastern)', 'Canada', 'USA (Washington)', 'USA (Oregon)',\n",
       "       'USA (California)', 'USA (Idaho)', 'USA (Wyoming)', 'USA (Nevada)',\n",
       "       'USA (Utah)', 'USA (New Mexico)', 'USA (Colorado)',\n",
       "       'USA (Arizona)', 'Pacific Ocean (northern)', 'Hawaiian Islands',\n",
       "       'Pacific Ocean (central)', 'Pacific Ocean (eastern)',\n",
       "       'Pacific Ocean (southern)', 'Mexico', 'Guatemala',\n",
       "       'El Salvador and Honduras', 'Nicaragua', 'Costa Rica', 'Panama',\n",
       "       'Colombia', 'Ecuador', 'Galapagos Islands', 'Peru',\n",
       "       'Northern Chile, Bolivia and Argentina',\n",
       "       'Pacific Ocean (Chilean Islands)', 'Central Chile and Argentina',\n",
       "       'Southern Chile and Argentina', 'West Indies', 'Iceland (western)',\n",
       "       'Iceland (southwestern)', 'Iceland (southern)',\n",
       "       'Iceland (northeastern)', 'Iceland (southeastern)',\n",
       "       'North of Iceland', 'Atlantic Ocean (Jan Mayen)', 'Arctic Ocean',\n",
       "       'Atlantic Ocean (northern)', 'Azores', 'Canary Islands',\n",
       "       'Cape Verde Islands', 'Atlantic Ocean (central)',\n",
       "       'Atlantic Ocean (southern)',\n",
       "       'Antarctica and South Sandwich Islands'], dtype=object)"
      ]
     },
     "execution_count": 18,
     "metadata": {},
     "output_type": "execute_result"
    }
   ],
   "source": [
    "df['Subregion'].unique()"
   ]
  },
  {
   "cell_type": "code",
   "execution_count": 19,
   "metadata": {},
   "outputs": [],
   "source": [
    "df = df.drop(['Subregion'], axis = 1)"
   ]
  },
  {
   "cell_type": "code",
   "execution_count": 20,
   "metadata": {},
   "outputs": [
    {
     "data": {
      "text/html": [
       "<div>\n",
       "<style scoped>\n",
       "    .dataframe tbody tr th:only-of-type {\n",
       "        vertical-align: middle;\n",
       "    }\n",
       "\n",
       "    .dataframe tbody tr th {\n",
       "        vertical-align: top;\n",
       "    }\n",
       "\n",
       "    .dataframe thead th {\n",
       "        text-align: right;\n",
       "    }\n",
       "</style>\n",
       "<table border=\"1\" class=\"dataframe\">\n",
       "  <thead>\n",
       "    <tr style=\"text-align: right;\">\n",
       "      <th></th>\n",
       "      <th>Volcano Number</th>\n",
       "      <th>Volcano Name</th>\n",
       "      <th>Country</th>\n",
       "      <th>Primary Volcano Type</th>\n",
       "      <th>Activity Evidence</th>\n",
       "      <th>Last Known Eruption</th>\n",
       "      <th>Region</th>\n",
       "      <th>Latitude</th>\n",
       "      <th>Longitude</th>\n",
       "      <th>Elevation (m)</th>\n",
       "      <th>Dominant Rock Type</th>\n",
       "      <th>Tectonic Setting</th>\n",
       "    </tr>\n",
       "  </thead>\n",
       "  <tbody>\n",
       "    <tr>\n",
       "      <th>0</th>\n",
       "      <td>210010</td>\n",
       "      <td>West Eifel Volcanic Field</td>\n",
       "      <td>[Germany]</td>\n",
       "      <td>Maar</td>\n",
       "      <td>Eruption Dated</td>\n",
       "      <td>10318</td>\n",
       "      <td>Mediterranean and Western Asia</td>\n",
       "      <td>50.170</td>\n",
       "      <td>6.85</td>\n",
       "      <td>600</td>\n",
       "      <td>Foidite</td>\n",
       "      <td>Rift zone / Continental crust (&gt;25 km)</td>\n",
       "    </tr>\n",
       "    <tr>\n",
       "      <th>1</th>\n",
       "      <td>210020</td>\n",
       "      <td>Chaine des Puys</td>\n",
       "      <td>[France]</td>\n",
       "      <td>Lava dome</td>\n",
       "      <td>Eruption Dated</td>\n",
       "      <td>6058</td>\n",
       "      <td>Mediterranean and Western Asia</td>\n",
       "      <td>45.775</td>\n",
       "      <td>2.97</td>\n",
       "      <td>1464</td>\n",
       "      <td>Basalt / Picro-Basalt</td>\n",
       "      <td>Rift zone / Continental crust (&gt;25 km)</td>\n",
       "    </tr>\n",
       "    <tr>\n",
       "      <th>2</th>\n",
       "      <td>210030</td>\n",
       "      <td>Olot Volcanic Field</td>\n",
       "      <td>[Spain]</td>\n",
       "      <td>Pyroclastic cone</td>\n",
       "      <td>Evidence Credible</td>\n",
       "      <td>unknown</td>\n",
       "      <td>Mediterranean and Western Asia</td>\n",
       "      <td>42.170</td>\n",
       "      <td>2.53</td>\n",
       "      <td>893</td>\n",
       "      <td>Trachybasalt / Tephrite Basanite</td>\n",
       "      <td>Intraplate / Continental crust (&gt;25 km)</td>\n",
       "    </tr>\n",
       "    <tr>\n",
       "      <th>3</th>\n",
       "      <td>210040</td>\n",
       "      <td>Calatrava Volcanic Field</td>\n",
       "      <td>[Spain]</td>\n",
       "      <td>Pyroclastic cone</td>\n",
       "      <td>Eruption Dated</td>\n",
       "      <td>5618</td>\n",
       "      <td>Mediterranean and Western Asia</td>\n",
       "      <td>38.870</td>\n",
       "      <td>-4.02</td>\n",
       "      <td>1117</td>\n",
       "      <td>Basalt / Picro-Basalt</td>\n",
       "      <td>Intraplate / Continental crust (&gt;25 km)</td>\n",
       "    </tr>\n",
       "    <tr>\n",
       "      <th>4</th>\n",
       "      <td>211001</td>\n",
       "      <td>Larderello</td>\n",
       "      <td>[Italy]</td>\n",
       "      <td>Explosion crater</td>\n",
       "      <td>Eruption Observed</td>\n",
       "      <td>736</td>\n",
       "      <td>Mediterranean and Western Asia</td>\n",
       "      <td>43.250</td>\n",
       "      <td>10.87</td>\n",
       "      <td>500</td>\n",
       "      <td>No Data (checked)</td>\n",
       "      <td>Subduction zone / Continental crust (&gt;25 km)</td>\n",
       "    </tr>\n",
       "  </tbody>\n",
       "</table>\n",
       "</div>"
      ],
      "text/plain": [
       "   Volcano Number               Volcano Name    Country Primary Volcano Type  \\\n",
       "0          210010  West Eifel Volcanic Field  [Germany]                 Maar   \n",
       "1          210020            Chaine des Puys   [France]            Lava dome   \n",
       "2          210030        Olot Volcanic Field    [Spain]     Pyroclastic cone   \n",
       "3          210040   Calatrava Volcanic Field    [Spain]     Pyroclastic cone   \n",
       "4          211001                 Larderello    [Italy]     Explosion crater   \n",
       "\n",
       "   Activity Evidence Last Known Eruption                          Region  \\\n",
       "0     Eruption Dated               10318  Mediterranean and Western Asia   \n",
       "1     Eruption Dated                6058  Mediterranean and Western Asia   \n",
       "2  Evidence Credible             unknown  Mediterranean and Western Asia   \n",
       "3     Eruption Dated                5618  Mediterranean and Western Asia   \n",
       "4  Eruption Observed                 736  Mediterranean and Western Asia   \n",
       "\n",
       "   Latitude  Longitude  Elevation (m)                Dominant Rock Type  \\\n",
       "0    50.170       6.85            600                           Foidite   \n",
       "1    45.775       2.97           1464             Basalt / Picro-Basalt   \n",
       "2    42.170       2.53            893  Trachybasalt / Tephrite Basanite   \n",
       "3    38.870      -4.02           1117             Basalt / Picro-Basalt   \n",
       "4    43.250      10.87            500                 No Data (checked)   \n",
       "\n",
       "                               Tectonic Setting  \n",
       "0        Rift zone / Continental crust (>25 km)  \n",
       "1        Rift zone / Continental crust (>25 km)  \n",
       "2       Intraplate / Continental crust (>25 km)  \n",
       "3       Intraplate / Continental crust (>25 km)  \n",
       "4  Subduction zone / Continental crust (>25 km)  "
      ]
     },
     "execution_count": 20,
     "metadata": {},
     "output_type": "execute_result"
    }
   ],
   "source": [
    "df.head()"
   ]
  },
  {
   "cell_type": "markdown",
   "metadata": {},
   "source": [
    "### Elevation\n",
    "#### modification:\n",
    "    just renamed the column to remove the (m)"
   ]
  },
  {
   "cell_type": "code",
   "execution_count": 21,
   "metadata": {},
   "outputs": [
    {
     "data": {
      "text/plain": [
       "array([ 600, 1464,  893, ...,  843,  -55, 1630], dtype=int64)"
      ]
     },
     "execution_count": 21,
     "metadata": {},
     "output_type": "execute_result"
    }
   ],
   "source": [
    "df['Elevation (m)'].unique() ##all elevations have a numerical value"
   ]
  },
  {
   "cell_type": "code",
   "execution_count": 22,
   "metadata": {},
   "outputs": [],
   "source": [
    "df = df.rename(columns = {'Elevation (m)': 'Elevation'})"
   ]
  },
  {
   "cell_type": "markdown",
   "metadata": {},
   "source": [
    "### Dominant Rock Type\n",
    "#### modification:\n",
    "    repalced 'No Data (checked)' by 'unknown'"
   ]
  },
  {
   "cell_type": "code",
   "execution_count": 23,
   "metadata": {},
   "outputs": [
    {
     "data": {
      "text/plain": [
       "array(['Foidite', 'Basalt / Picro-Basalt',\n",
       "       'Trachybasalt / Tephrite Basanite', 'No Data (checked)',\n",
       "       'Trachyte / Trachydacite', 'Phono-tephrite /  Tephri-phonolite',\n",
       "       'Phonolite', 'Trachyandesite / Basaltic Trachyandesite',\n",
       "       'Andesite / Basaltic Andesite', 'Rhyolite', 'unknown', 'Dacite'],\n",
       "      dtype=object)"
      ]
     },
     "execution_count": 23,
     "metadata": {},
     "output_type": "execute_result"
    }
   ],
   "source": [
    "df['Dominant Rock Type'].unique()"
   ]
  },
  {
   "cell_type": "code",
   "execution_count": 24,
   "metadata": {},
   "outputs": [],
   "source": [
    "df['Dominant Rock Type'] = ['unknown' if x == 'No Data (checked)' else x for x in df['Dominant Rock Type']]"
   ]
  },
  {
   "cell_type": "code",
   "execution_count": 25,
   "metadata": {},
   "outputs": [
    {
     "data": {
      "text/plain": [
       "array(['Foidite', 'Basalt / Picro-Basalt',\n",
       "       'Trachybasalt / Tephrite Basanite', 'unknown',\n",
       "       'Trachyte / Trachydacite', 'Phono-tephrite /  Tephri-phonolite',\n",
       "       'Phonolite', 'Trachyandesite / Basaltic Trachyandesite',\n",
       "       'Andesite / Basaltic Andesite', 'Rhyolite', 'Dacite'], dtype=object)"
      ]
     },
     "execution_count": 25,
     "metadata": {},
     "output_type": "execute_result"
    }
   ],
   "source": [
    "df['Dominant Rock Type'].unique()"
   ]
  },
  {
   "cell_type": "markdown",
   "metadata": {},
   "source": [
    "### Tectonic Setting\n",
    "#### modifications:\n",
    "    removed the (<> 25 m) from the string\n",
    "    seperated in list of two the type"
   ]
  },
  {
   "cell_type": "code",
   "execution_count": 26,
   "metadata": {},
   "outputs": [],
   "source": [
    "tec_sett = df['Tectonic Setting']"
   ]
  },
  {
   "cell_type": "code",
   "execution_count": 27,
   "metadata": {},
   "outputs": [],
   "source": [
    "def map_tec_sett(tec_sett):\n",
    "    res = tec_sett.split(' / ')\n",
    "    if res[0] != 'unknown':\n",
    "        res[1] = res[1].split('(')[0][:-1]\n",
    "    return res"
   ]
  },
  {
   "cell_type": "code",
   "execution_count": 28,
   "metadata": {},
   "outputs": [],
   "source": [
    "df['Tectonic Setting'] = list(map(map_tec_sett, tec_sett))"
   ]
  },
  {
   "cell_type": "markdown",
   "metadata": {},
   "source": [
    "### Replacing every 'unknown' by nans\n",
    "    d3 ingnores nans so easier to use data in this case\n",
    "### Sorting rows by last eruption\n",
    "    by doing so, it is easier to do the time-lapse"
   ]
  },
  {
   "cell_type": "code",
   "execution_count": 35,
   "metadata": {},
   "outputs": [],
   "source": [
    "df = df.replace('unknown', np.nan)\n",
    "df = df.sort_values(by = 'Last Known Eruption', ascending = False)"
   ]
  },
  {
   "cell_type": "code",
   "execution_count": 36,
   "metadata": {},
   "outputs": [],
   "source": [
    "df.to_csv('volcano.csv')"
   ]
  },
  {
   "cell_type": "code",
   "execution_count": null,
   "metadata": {},
   "outputs": [],
   "source": []
  },
  {
   "cell_type": "code",
   "execution_count": null,
   "metadata": {},
   "outputs": [],
   "source": []
  }
 ],
 "metadata": {
  "kernelspec": {
   "display_name": "Python 3",
   "language": "python",
   "name": "python3"
  },
  "language_info": {
   "codemirror_mode": {
    "name": "ipython",
    "version": 3
   },
   "file_extension": ".py",
   "mimetype": "text/x-python",
   "name": "python",
   "nbconvert_exporter": "python",
   "pygments_lexer": "ipython3",
   "version": "3.7.0"
  }
 },
 "nbformat": 4,
 "nbformat_minor": 2
}
