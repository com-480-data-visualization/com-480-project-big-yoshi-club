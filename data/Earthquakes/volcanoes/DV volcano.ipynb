{
 "cells": [
  {
   "cell_type": "code",
   "execution_count": 1,
   "metadata": {},
   "outputs": [
    {
     "name": "stderr",
     "output_type": "stream",
     "text": [
      "In D:\\programmes\\anaconda\\lib\\site-packages\\matplotlib\\mpl-data\\stylelib\\_classic_test.mplstyle: \n",
      "The text.latex.unicode rcparam was deprecated in Matplotlib 3.0 and will be removed in 3.2.\n",
      "In D:\\programmes\\anaconda\\lib\\site-packages\\matplotlib\\mpl-data\\stylelib\\_classic_test.mplstyle: \n",
      "The savefig.frameon rcparam was deprecated in Matplotlib 3.1 and will be removed in 3.3.\n",
      "In D:\\programmes\\anaconda\\lib\\site-packages\\matplotlib\\mpl-data\\stylelib\\_classic_test.mplstyle: \n",
      "The pgf.debug rcparam was deprecated in Matplotlib 3.0 and will be removed in 3.2.\n",
      "In D:\\programmes\\anaconda\\lib\\site-packages\\matplotlib\\mpl-data\\stylelib\\_classic_test.mplstyle: \n",
      "The verbose.level rcparam was deprecated in Matplotlib 3.1 and will be removed in 3.3.\n",
      "In D:\\programmes\\anaconda\\lib\\site-packages\\matplotlib\\mpl-data\\stylelib\\_classic_test.mplstyle: \n",
      "The verbose.fileo rcparam was deprecated in Matplotlib 3.1 and will be removed in 3.3.\n"
     ]
    }
   ],
   "source": [
    "import pandas as pd\n",
    "import numpy as np\n",
    "import matplotlib.pyplot as plt\n",
    "import seaborn as sns"
   ]
  },
  {
   "cell_type": "code",
   "execution_count": 2,
   "metadata": {},
   "outputs": [],
   "source": [
    "df = pd.read_excel('volcano.xlsx')\n",
    "N = df.size"
   ]
  },
  {
   "cell_type": "code",
   "execution_count": 3,
   "metadata": {},
   "outputs": [
    {
     "data": {
      "text/html": [
       "<div>\n",
       "<style scoped>\n",
       "    .dataframe tbody tr th:only-of-type {\n",
       "        vertical-align: middle;\n",
       "    }\n",
       "\n",
       "    .dataframe tbody tr th {\n",
       "        vertical-align: top;\n",
       "    }\n",
       "\n",
       "    .dataframe thead th {\n",
       "        text-align: right;\n",
       "    }\n",
       "</style>\n",
       "<table border=\"1\" class=\"dataframe\">\n",
       "  <thead>\n",
       "    <tr style=\"text-align: right;\">\n",
       "      <th></th>\n",
       "      <th>Volcano Number</th>\n",
       "      <th>Volcano Name</th>\n",
       "      <th>Country</th>\n",
       "      <th>Primary Volcano Type</th>\n",
       "      <th>Activity Evidence</th>\n",
       "      <th>Last Known Eruption</th>\n",
       "      <th>Region</th>\n",
       "      <th>Subregion</th>\n",
       "      <th>Latitude</th>\n",
       "      <th>Longitude</th>\n",
       "      <th>Elevation (m)</th>\n",
       "      <th>Dominant Rock Type</th>\n",
       "      <th>Tectonic Setting</th>\n",
       "    </tr>\n",
       "  </thead>\n",
       "  <tbody>\n",
       "    <tr>\n",
       "      <th>0</th>\n",
       "      <td>210010</td>\n",
       "      <td>West Eifel Volcanic Field</td>\n",
       "      <td>Germany</td>\n",
       "      <td>Maar(s)</td>\n",
       "      <td>Eruption Dated</td>\n",
       "      <td>8300 BCE</td>\n",
       "      <td>Mediterranean and Western Asia</td>\n",
       "      <td>Western Europe</td>\n",
       "      <td>50.170</td>\n",
       "      <td>6.85</td>\n",
       "      <td>600</td>\n",
       "      <td>Foidite</td>\n",
       "      <td>Rift zone / Continental crust (&gt;25 km)</td>\n",
       "    </tr>\n",
       "    <tr>\n",
       "      <th>1</th>\n",
       "      <td>210020</td>\n",
       "      <td>Chaine des Puys</td>\n",
       "      <td>France</td>\n",
       "      <td>Lava dome(s)</td>\n",
       "      <td>Eruption Dated</td>\n",
       "      <td>4040 BCE</td>\n",
       "      <td>Mediterranean and Western Asia</td>\n",
       "      <td>Western Europe</td>\n",
       "      <td>45.775</td>\n",
       "      <td>2.97</td>\n",
       "      <td>1464</td>\n",
       "      <td>Basalt / Picro-Basalt</td>\n",
       "      <td>Rift zone / Continental crust (&gt;25 km)</td>\n",
       "    </tr>\n",
       "    <tr>\n",
       "      <th>2</th>\n",
       "      <td>210030</td>\n",
       "      <td>Olot Volcanic Field</td>\n",
       "      <td>Spain</td>\n",
       "      <td>Pyroclastic cone(s)</td>\n",
       "      <td>Evidence Credible</td>\n",
       "      <td>Unknown</td>\n",
       "      <td>Mediterranean and Western Asia</td>\n",
       "      <td>Western Europe</td>\n",
       "      <td>42.170</td>\n",
       "      <td>2.53</td>\n",
       "      <td>893</td>\n",
       "      <td>Trachybasalt / Tephrite Basanite</td>\n",
       "      <td>Intraplate / Continental crust (&gt;25 km)</td>\n",
       "    </tr>\n",
       "    <tr>\n",
       "      <th>3</th>\n",
       "      <td>210040</td>\n",
       "      <td>Calatrava Volcanic Field</td>\n",
       "      <td>Spain</td>\n",
       "      <td>Pyroclastic cone(s)</td>\n",
       "      <td>Eruption Dated</td>\n",
       "      <td>3600 BCE</td>\n",
       "      <td>Mediterranean and Western Asia</td>\n",
       "      <td>Western Europe</td>\n",
       "      <td>38.870</td>\n",
       "      <td>-4.02</td>\n",
       "      <td>1117</td>\n",
       "      <td>Basalt / Picro-Basalt</td>\n",
       "      <td>Intraplate / Continental crust (&gt;25 km)</td>\n",
       "    </tr>\n",
       "    <tr>\n",
       "      <th>4</th>\n",
       "      <td>211001</td>\n",
       "      <td>Larderello</td>\n",
       "      <td>Italy</td>\n",
       "      <td>Explosion crater(s)</td>\n",
       "      <td>Eruption Observed</td>\n",
       "      <td>1282 CE</td>\n",
       "      <td>Mediterranean and Western Asia</td>\n",
       "      <td>Italy</td>\n",
       "      <td>43.250</td>\n",
       "      <td>10.87</td>\n",
       "      <td>500</td>\n",
       "      <td>No Data (checked)</td>\n",
       "      <td>Subduction zone / Continental crust (&gt;25 km)</td>\n",
       "    </tr>\n",
       "  </tbody>\n",
       "</table>\n",
       "</div>"
      ],
      "text/plain": [
       "   Volcano Number               Volcano Name  Country Primary Volcano Type  \\\n",
       "0          210010  West Eifel Volcanic Field  Germany              Maar(s)   \n",
       "1          210020            Chaine des Puys   France         Lava dome(s)   \n",
       "2          210030        Olot Volcanic Field    Spain  Pyroclastic cone(s)   \n",
       "3          210040   Calatrava Volcanic Field    Spain  Pyroclastic cone(s)   \n",
       "4          211001                 Larderello    Italy  Explosion crater(s)   \n",
       "\n",
       "   Activity Evidence Last Known Eruption                          Region  \\\n",
       "0     Eruption Dated            8300 BCE  Mediterranean and Western Asia   \n",
       "1     Eruption Dated            4040 BCE  Mediterranean and Western Asia   \n",
       "2  Evidence Credible             Unknown  Mediterranean and Western Asia   \n",
       "3     Eruption Dated            3600 BCE  Mediterranean and Western Asia   \n",
       "4  Eruption Observed             1282 CE  Mediterranean and Western Asia   \n",
       "\n",
       "        Subregion  Latitude  Longitude  Elevation (m)  \\\n",
       "0  Western Europe    50.170       6.85            600   \n",
       "1  Western Europe    45.775       2.97           1464   \n",
       "2  Western Europe    42.170       2.53            893   \n",
       "3  Western Europe    38.870      -4.02           1117   \n",
       "4           Italy    43.250      10.87            500   \n",
       "\n",
       "                 Dominant Rock Type  \\\n",
       "0                           Foidite   \n",
       "1             Basalt / Picro-Basalt   \n",
       "2  Trachybasalt / Tephrite Basanite   \n",
       "3             Basalt / Picro-Basalt   \n",
       "4                 No Data (checked)   \n",
       "\n",
       "                               Tectonic Setting  \n",
       "0        Rift zone / Continental crust (>25 km)  \n",
       "1        Rift zone / Continental crust (>25 km)  \n",
       "2       Intraplate / Continental crust (>25 km)  \n",
       "3       Intraplate / Continental crust (>25 km)  \n",
       "4  Subduction zone / Continental crust (>25 km)  "
      ]
     },
     "execution_count": 3,
     "metadata": {},
     "output_type": "execute_result"
    }
   ],
   "source": [
    "df.head(5)"
   ]
  },
  {
   "cell_type": "code",
   "execution_count": 4,
   "metadata": {},
   "outputs": [
    {
     "data": {
      "text/plain": [
       "Index(['Volcano Number', 'Volcano Name', 'Country', 'Primary Volcano Type',\n",
       "       'Activity Evidence', 'Last Known Eruption', 'Region', 'Subregion',\n",
       "       'Latitude', 'Longitude', 'Elevation (m)', 'Dominant Rock Type',\n",
       "       'Tectonic Setting'],\n",
       "      dtype='object')"
      ]
     },
     "execution_count": 4,
     "metadata": {},
     "output_type": "execute_result"
    }
   ],
   "source": [
    "df.columns"
   ]
  },
  {
   "cell_type": "markdown",
   "metadata": {},
   "source": [
    "### Elevation"
   ]
  },
  {
   "cell_type": "code",
   "execution_count": 5,
   "metadata": {},
   "outputs": [],
   "source": [
    "elevations = df['Elevation (m)']"
   ]
  },
  {
   "cell_type": "code",
   "execution_count": 6,
   "metadata": {},
   "outputs": [
    {
     "data": {
      "text/plain": [
       "[<matplotlib.lines.Line2D at 0x2c41f72fd68>]"
      ]
     },
     "execution_count": 6,
     "metadata": {},
     "output_type": "execute_result"
    },
    {
     "data": {
      "image/png": "[encoded data removed]",
      "text/plain": [
       "<Figure size 432x288 with 1 Axes>"
      ]
     },
     "metadata": {
      "needs_background": "light"
     },
     "output_type": "display_data"
    }
   ],
   "source": [
    "plt.plot(range(len(elevations)), np.sort(elevations))"
   ]
  },
  {
   "cell_type": "code",
   "execution_count": 7,
   "metadata": {},
   "outputs": [
    {
     "data": {
      "text/plain": [
       "[]"
      ]
     },
     "execution_count": 7,
     "metadata": {},
     "output_type": "execute_result"
    },
    {
     "data": {
      "image/png": "[encoded data removed]",
      "text/plain": [
       "<Figure size 432x288 with 1 Axes>"
      ]
     },
     "metadata": {},
     "output_type": "display_data"
    }
   ],
   "source": [
    "sns.set()\n",
    "ax = sns.distplot(elevations, bins = 50, kde = False)\n",
    "ax.set_yticks([])"
   ]
  },
  {
   "cell_type": "code",
   "execution_count": 25,
   "metadata": {},
   "outputs": [],
   "source": [
    "height_mean = np.mean(elevations)\n",
    "height_median = np.median(elevations)\n",
    "height_max = np.max(elevations)\n",
    "heigth_min = np.min(elevations)"
   ]
  },
  {
   "cell_type": "markdown",
   "metadata": {},
   "source": [
    "### Erruptions"
   ]
  },
  {
   "cell_type": "code",
   "execution_count": 188,
   "metadata": {},
   "outputs": [],
   "source": [
    "last_err = df['Last Known Eruption']\n",
    "last_err_clean = last_err[last_err != 'Unknown']\n",
    "old_perc = len(last_err_clean)/len(last_err) * 100\n",
    "last_err_clean = [x.split(' ') for x in last_err_clean]\n",
    "oldness = np.array([2018+int(x[0]) if x[1] == 'BCE' else 2018-int(x[0]) for x in last_err_clean])\n",
    "oldest = np.max(oldness)\n",
    "old_mean = np.mean(oldness)\n",
    "old_median = np.median(oldness)"
   ]
  },
  {
   "cell_type": "code",
   "execution_count": 189,
   "metadata": {},
   "outputs": [],
   "source": [
    "err_ev = df['Activity Evidence']\n",
    "err_poss_activity_info = ', '.join(err_ev.unique())"
   ]
  },
  {
   "cell_type": "code",
   "execution_count": 190,
   "metadata": {},
   "outputs": [
    {
     "data": {
      "text/plain": [
       "Text(0.5, 0, 'last known eruption age younger than 200')"
      ]
     },
     "execution_count": 190,
     "metadata": {},
     "output_type": "execute_result"
    },
    {
     "data": {
      "image/png": "[encoded data removed]",
      "text/plain": [
       "<Figure size 432x288 with 1 Axes>"
      ]
     },
     "metadata": {},
     "output_type": "display_data"
    }
   ],
   "source": [
    "sns.set()\n",
    "sns.distplot(t, bins = 100, kde = False, color = 'blue')\n",
    "plt.ylabel('volcanoes')\n",
    "plt.xlabel('last known eruption age younger than 200')"
   ]
  },
  {
   "cell_type": "markdown",
   "metadata": {},
   "source": [
    "### Position"
   ]
  },
  {
   "cell_type": "code",
   "execution_count": 191,
   "metadata": {},
   "outputs": [],
   "source": [
    "position_info = df[['Country', 'Region', 'Subregion', 'Latitude', 'Longitude']]\n",
    "num_countries = position_info['Country'].unique().shape[0]\n",
    "num_regions = position_info['Region'].unique().shape[0]\n",
    "num_subregions = position_info['Subregion'].unique().shape[0]"
   ]
  },
  {
   "cell_type": "markdown",
   "metadata": {},
   "source": [
    "### Volcano properties"
   ]
  },
  {
   "cell_type": "code",
   "execution_count": 201,
   "metadata": {},
   "outputs": [],
   "source": [
    "prop = df[['Primary Volcano Type', 'Dominant Rock Type', 'Tectonic Setting']]\n",
    "num_vol_type = prop['Primary Volcano Type'].unique().shape[0]\n",
    "num_rock_type = prop['Dominant Rock Type'].unique().shape[0]\n",
    "num_tec_type = prop[ 'Tectonic Setting'].unique().shape[0]"
   ]
  },
  {
   "cell_type": "code",
   "execution_count": 202,
   "metadata": {},
   "outputs": [
    {
     "data": {
      "text/plain": [
       "array(['Maar(s)', 'Lava dome(s)', 'Pyroclastic cone(s)',\n",
       "       'Explosion crater(s)', 'Caldera', 'Stratovolcano', 'Complex',\n",
       "       'Submarine', 'Stratovolcano(es)', 'Shield', 'Shield(s)',\n",
       "       'Lava dome', 'Lava cone(s)', 'Volcanic field', 'Volcanic field(s)',\n",
       "       'Fissure vent(s)', 'Fissure vent', 'Caldera(s)',\n",
       "       'Pyroclastic cone', 'Tuff cone(s)', 'Tuff cone',\n",
       "       'Pyroclastic shield', 'Submarine(es)', 'Maar', 'Compound',\n",
       "       'Lava cone', 'Stratovolcano?', 'Unknown', 'Crater rows',\n",
       "       'Complex(es)', 'Cone(s)', 'Tuff ring(s)', 'Subglacial'],\n",
       "      dtype=object)"
      ]
     },
     "execution_count": 202,
     "metadata": {},
     "output_type": "execute_result"
    }
   ],
   "source": [
    "prop['Primary Volcano Type'].unique()"
   ]
  },
  {
   "cell_type": "code",
   "execution_count": 273,
   "metadata": {},
   "outputs": [],
   "source": [
    "rockTypes = prop['Dominant Rock Type'].dropna().unique()"
   ]
  },
  {
   "cell_type": "code",
   "execution_count": 274,
   "metadata": {},
   "outputs": [
    {
     "data": {
      "text/plain": [
       "array(['Foidite', 'Basalt / Picro-Basalt',\n",
       "       'Trachybasalt / Tephrite Basanite', 'No Data (checked)',\n",
       "       'Trachyte / Trachydacite', 'Phono-tephrite /  Tephri-phonolite',\n",
       "       'Phonolite', 'Trachyandesite / Basaltic Trachyandesite',\n",
       "       'Andesite / Basaltic Andesite', 'Rhyolite', 'Dacite'], dtype=object)"
      ]
     },
     "execution_count": 274,
     "metadata": {},
     "output_type": "execute_result"
    }
   ],
   "source": [
    "rockTypes"
   ]
  },
  {
   "cell_type": "code",
   "execution_count": 275,
   "metadata": {},
   "outputs": [],
   "source": [
    "x = []\n",
    "y = []\n",
    "for i in rockTypes:\n",
    "    n = len(prop[prop['Dominant Rock Type'] == i])\n",
    "    x.append(i)\n",
    "    y.append(n)"
   ]
  },
  {
   "cell_type": "code",
   "execution_count": 296,
   "metadata": {},
   "outputs": [
    {
     "data": {
      "text/plain": [
       "'Andesite / Basaltic Andesite'"
      ]
     },
     "execution_count": 296,
     "metadata": {},
     "output_type": "execute_result"
    }
   ],
   "source": [
    "x[8]"
   ]
  },
  {
   "cell_type": "code",
   "execution_count": 295,
   "metadata": {},
   "outputs": [
    {
     "data": {
      "text/plain": [
       "Text(0.5, 0, 'rock types')"
      ]
     },
     "execution_count": 295,
     "metadata": {},
     "output_type": "execute_result"
    },
    {
     "data": {
      "image/png": "[encoded data removed]",
      "text/plain": [
       "<Figure size 432x288 with 1 Axes>"
      ]
     },
     "metadata": {},
     "output_type": "display_data"
    }
   ],
   "source": [
    "ax = plt.bar(1+np.arange(11), y)\n",
    "plt.xlabel('rock types')"
   ]
  },
  {
   "cell_type": "code",
   "execution_count": 195,
   "metadata": {},
   "outputs": [
    {
     "data": {
      "text/plain": [
       "array(['Rift zone / Continental crust (>25 km)',\n",
       "       'Intraplate / Continental crust (>25 km)',\n",
       "       'Subduction zone / Continental crust (>25 km)',\n",
       "       'Rift zone / Oceanic crust (< 15 km)',\n",
       "       'Rift zone / Intermediate crust (15-25 km)',\n",
       "       'Intraplate / Oceanic crust (< 15 km)',\n",
       "       'Subduction zone / Oceanic crust (< 15 km)',\n",
       "       'Subduction zone / Crustal thickness unknown',\n",
       "       'Subduction zone / Intermediate crust (15-25 km)', 'Unknown',\n",
       "       'Intraplate / Intermediate crust (15-25 km)'], dtype=object)"
      ]
     },
     "execution_count": 195,
     "metadata": {},
     "output_type": "execute_result"
    }
   ],
   "source": [
    "prop['Tectonic Setting'].unique()"
   ]
  },
  {
   "cell_type": "code",
   "execution_count": 305,
   "metadata": {},
   "outputs": [
    {
     "name": "stdout",
     "output_type": "stream",
     "text": [
      "r: 240, i: 182 s: 1008\n"
     ]
    }
   ],
   "source": [
    "rz= 0\n",
    "intr = 0\n",
    "sz = 0\n",
    "for i in prop['Tectonic Setting'].dropna():\n",
    "    if i[0] == 'R':\n",
    "        rz+=1\n",
    "    elif i[0] == 'S':\n",
    "        sz+=1\n",
    "    elif i[0] == 'I':\n",
    "        intr+=1\n",
    "print('r: ' + str(rz) + ', i: ' + str(intr) + ' s: ' + str(sz))"
   ]
  },
  {
   "cell_type": "code",
   "execution_count": 306,
   "metadata": {},
   "outputs": [
    {
     "data": {
      "text/plain": [
       "<BarContainer object of 3 artists>"
      ]
     },
     "execution_count": 306,
     "metadata": {},
     "output_type": "execute_result"
    },
    {
     "data": {
      "image/png": "[encoded data removed]",
      "text/plain": [
       "<Figure size 432x288 with 1 Axes>"
      ]
     },
     "metadata": {},
     "output_type": "display_data"
    }
   ],
   "source": [
    "plt.bar(['Rift', 'Intraplte', 'Subduction'], [rz, intr, sz])"
   ]
  },
  {
   "cell_type": "code",
   "execution_count": 196,
   "metadata": {},
   "outputs": [],
   "source": [
    "temp = prop[prop['Primary Volcano Type'] != 'Unkown']\n",
    "temp = temp[temp['Dominant Rock Type'] != 'No Data (checked)']\n",
    "temp = temp[temp['Tectonic Setting'] != 'Unknown']\n",
    "temp = temp.dropna()"
   ]
  },
  {
   "cell_type": "code",
   "execution_count": 197,
   "metadata": {},
   "outputs": [],
   "source": [
    "types = temp['Primary Volcano Type'].unique()"
   ]
  },
  {
   "cell_type": "code",
   "execution_count": 198,
   "metadata": {},
   "outputs": [
    {
     "data": {
      "text/plain": [
       "0                   Maar(s)\n",
       "1              Lava dome(s)\n",
       "2       Pyroclastic cone(s)\n",
       "3       Pyroclastic cone(s)\n",
       "5                   Caldera\n",
       "               ...         \n",
       "1430          Stratovolcano\n",
       "1431          Stratovolcano\n",
       "1432          Stratovolcano\n",
       "1433              Submarine\n",
       "1434                 Shield\n",
       "Name: Primary Volcano Type, Length: 1367, dtype: object"
      ]
     },
     "execution_count": 198,
     "metadata": {},
     "output_type": "execute_result"
    }
   ],
   "source": [
    "temp['Primary Volcano Type']"
   ]
  },
  {
   "cell_type": "markdown",
   "metadata": {},
   "source": [
    "### Cell for printing findings"
   ]
  },
  {
   "cell_type": "code",
   "execution_count": 199,
   "metadata": {},
   "outputs": [
    {
     "name": "stdout",
     "output_type": "stream",
     "text": [
      "There are 18668 volcanoes that are referenced in the dataset.\n",
      "   The oldest erruption happened 12468 years ago(10448 BCE),\n",
      "the mean difference in year with today is 1250, the median 112.\n",
      "This information is available for 60% of the volcanoes.\n",
      "There also is activity information.\n",
      "The possible values are Eruption Dated, Evidence Credible, Eruption Observed, Evidence Uncertain, Unrest / Holocene.\n",
      "   Height is given with respect to sea level.\n",
      "The mean heigth is 1688, while the median height is 1484.\n",
      "The maximum heigth is 6879 while the minimum is -5700.\n",
      "   The volcanoes are shattered accross 95 countries (19 regions and 107 subregions).\n",
      "   The volcanoes have 3 additional properties:\n",
      "'Primary Volcano Type' (33 types), 'Dominant Rock Type' (11 types) and 'Tectonic Setting' (11 types).\n",
      "\n",
      "\n"
     ]
    }
   ],
   "source": [
    "print(\"\"\"There are {} volcanoes that are referenced in the dataset.\"\"\"\n",
    "     .format(N)\n",
    "    )\n",
    "\n",
    "print(\n",
    "\"\"\"   The oldest erruption happened {} years ago({}),\n",
    "the mean difference in year with today is {}, the median {}.\n",
    "This information is available for {}% of the volcanoes.\n",
    "There also is activity information.\n",
    "The possible values are {}.\"\"\"\n",
    "    .format(oldest, str(oldest-2020)+' BCE', int(old_mean), int(old_median), int(old_perc), err_poss_activity_info)\n",
    ")\n",
    "\n",
    "print(\n",
    "\"\"\"   Height is given with respect to sea level.\n",
    "The mean heigth is {}, while the median height is {}.\n",
    "The maximum heigth is {} while the minimum is {}.\"\"\"\n",
    "    .format(int(height_mean), int(height_median), int(height_max), int(heigth_min)))\n",
    "\n",
    "print(\n",
    "\"\"\"   The volcanoes are shattered accross {} countries ({} regions and {} subregions).\"\"\"\n",
    "    .format(num_countries, num_regions, num_subregions)\n",
    ")\n",
    "\n",
    "print(\n",
    "\"\"\"   The volcanoes have 3 additional properties:\n",
    "'Primary Volcano Type' ({} types), 'Dominant Rock Type' ({} types) and 'Tectonic Setting' ({} types).\n",
    "\n",
    "\"\"\".format(num_vol_type, num_rock_type, num_tec_type))"
   ]
  },
  {
   "cell_type": "code",
   "execution_count": null,
   "metadata": {},
   "outputs": [],
   "source": []
  }
 ],
 "metadata": {
  "kernelspec": {
   "display_name": "Python 3",
   "language": "python",
   "name": "python3"
  },
  "language_info": {
   "codemirror_mode": {
    "name": "ipython",
    "version": 3
   },
   "file_extension": ".py",
   "mimetype": "text/x-python",
   "name": "python",
   "nbconvert_exporter": "python",
   "pygments_lexer": "ipython3",
   "version": "3.7.0"
  }
 },
 "nbformat": 4,
 "nbformat_minor": 2
}
